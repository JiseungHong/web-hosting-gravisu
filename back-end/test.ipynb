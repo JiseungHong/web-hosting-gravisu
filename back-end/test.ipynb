{
 "cells": [
  {
   "cell_type": "code",
   "execution_count": 1,
   "metadata": {},
   "outputs": [
    {
     "name": "stderr",
     "output_type": "stream",
     "text": [
      "c:\\Users\\user\\.conda\\envs\\lavis\\lib\\site-packages\\tqdm\\auto.py:21: TqdmWarning: IProgress not found. Please update jupyter and ipywidgets. See https://ipywidgets.readthedocs.io/en/stable/user_install.html\n",
      "  from .autonotebook import tqdm as notebook_tqdm\n"
     ]
    }
   ],
   "source": [
    "\n",
    "from new_utils import renew_model, renew_make_gradcam\n",
    "\n",
    "# 필요사항 : \n",
    "user_images_folder = f\"C:/Users/user/Desktop/assignment/image\"\n",
    "model_folder = f\"C:/Users/user/Desktop/assignment/model\" # tf_keras_vgg16_mura_model.h5\n",
    "save_heatmap = f\"./heatmap\"\n",
    "\n",
    "csv_location = f\"./test.csv\"\n",
    "# 임의의 white image \n",
    "white_image_loc = f\"C:/Users/user/Desktop/assignment/white.png\"\n"
   ]
  },
  {
   "cell_type": "code",
   "execution_count": 2,
   "metadata": {},
   "outputs": [],
   "source": [
    "# # when model update, 1) renew model_location folder, 2) return model_location \n",
    "model_location = renew_model(model_folder) "
   ]
  },
  {
   "cell_type": "code",
   "execution_count": 5,
   "metadata": {},
   "outputs": [
    {
     "name": "stdout",
     "output_type": "stream",
     "text": [
      "WARNING:tensorflow:No training configuration found in the save file, so the model was *not* compiled. Compile it manually.\n"
     ]
    },
    {
     "name": "stderr",
     "output_type": "stream",
     "text": [
      "WARNING:tensorflow:No training configuration found in the save file, so the model was *not* compiled. Compile it manually.\n"
     ]
    },
    {
     "data": {
      "text/plain": [
       "3"
      ]
     },
     "execution_count": 5,
     "metadata": {},
     "output_type": "execute_result"
    }
   ],
   "source": [
    "# 1) renew save_heatmap folder \n",
    "# 2) make gradcam & save heatmap in save_heatmap forlder\n",
    "# 3) return data_df which record infomation about data_df\n",
    "\n",
    "# converted 를 하는데 시간이 많이 걸리네. \n",
    "\n",
    "renew_make_gradcam(model_location, user_images_folder, save_heatmap, csv_location)\n"
   ]
  },

  {
   "cell_type": "code",
   "execution_count": null,
   "metadata": {},
   "outputs": [],
   "source": [
    "import requests\n",
    "import json\n",
    "\n",
    "url = \"http://localhost:50942/run-gradcam\" # Use the provided host and port\n",
    "\n",
    "try:\n",
    "    response = requests.post(url)\n",
    "    response.raise_for_status() # Raise an exception for bad status codes\n",
    "    data = response.json()\n",
    "    \n",
    "    print(\"Response from /run-gradcam:\")\n",
    "    print(json.dumps(data, indent=2))\n",
    "    \n",
    "    if 'duration' in data:\n",
    "        print(f\"Duration found in response: {data['duration']}\")\n",
    "    else:\n",
    "        print(\"Duration not found in response.\")\n",
    "        assert False, \"Duration key missing in response\"\n",
    "        \n",
    "except requests.exceptions.RequestException as e:\n",
    "    print(f\"Error calling /run-gradcam: {e}\")\n",
    "    assert False, f\"Failed to call /run-gradcam: {e}\"\n"
   ]
  }

  {
   "cell_type": "code",
   "execution_count": 4,
   "metadata": {},
   "outputs": [
    {
     "name": "stdout",
     "output_type": "stream",
     "text": [
      "WARNING:tensorflow:No training configuration found in the save file, so the model was *not* compiled. Compile it manually.\n"
     ]
    },
    {
     "name": "stderr",
     "output_type": "stream",
     "text": [
      "WARNING:tensorflow:No training configuration found in the save file, so the model was *not* compiled. Compile it manually.\n"
     ]
    },
    {
     "data": {
      "text/plain": [
       "3"
      ]
     },
     "execution_count": 4,
     "metadata": {},
     "output_type": "execute_result"
    }
   ],
   "source": [
    "# 1) renew save_heatmap folder \n",
    "# 2) make gradcam & save heatmap in save_heatmap forlder\n",
    "# 3) return data_df which record infomation about data_df\n",
    "\n",
    "# converted 를 하는데 시간이 많이 걸리네. \n",
    "\n",
    "renew_make_gradcam(model_location, user_images_folder, save_heatmap, csv_location, masking=True)\n"
   ]
  },
  {
   "cell_type": "code",
   "execution_count": 4,
   "metadata": {},
   "outputs": [],
   "source": [
    "import pandas as pd \n",
    "dataframe = pd.read_csv(csv_location)\n"
   ]
  },
  {
   "cell_type": "code",
   "execution_count": 5,
   "metadata": {},
   "outputs": [],
   "source": [
    "num_class = 3 \n",
    "\n",
    "df = pd.read_csv(csv_location)\n",
    "    # max_column_id 반영하기\n",
    "\n",
    "\n",
    "max_column_id = [] \n",
    "for c_id in range(num_class) : \n",
    "    c_column_id = df.loc[df['prediction'] == c_id + 1, 'column_id'].tolist()\n",
    "    if len(c_column_id) == 0 : \n",
    "        class_max_column_id = 0 \n",
    "    else : \n",
    "        class_max_column_id = max(c_column_id)\n",
    "    \n",
    "    max_column_id.append(class_max_column_id)"
   ]
  },
  {
   "cell_type": "code",
   "execution_count": 8,
   "metadata": {},
   "outputs": [
    {
     "data": {
      "text/plain": [
       "3"
      ]
     },
     "execution_count": 8,
     "metadata": {},
     "output_type": "execute_result"
    }
   ],
   "source": [
    "3%4"
   ]
  },
  {
   "cell_type": "code",
   "execution_count": 7,
   "metadata": {},
   "outputs": [
    {
     "data": {
      "text/plain": [
       "'C:/Users/user/Desktop/assignment/image/hitgoram_/histogram_1.png'"
      ]
     },
     "execution_count": 7,
     "metadata": {},
     "output_type": "execute_result"
    },
    {
     "data": {
      "image/png": "iVBORw0KGgoAAAANSUhEUgAAA+kAAAIzCAYAAAB871iCAAAAOXRFWHRTb2Z0d2FyZQBNYXRwbG90bGliIHZlcnNpb24zLjcuMywgaHR0cHM6Ly9tYXRwbG90bGliLm9yZy/OQEPoAAAACXBIWXMAAA9hAAAPYQGoP6dpAABdy0lEQVR4nO3dd1RU1/r/8WdUxAZEjYgG7F1EUewGxEBiS2w3em2oscTYuxKNNQmWryVWYsXEJHrtXmtsGLuxl8RoYkMFS0AQVER4fn/4Yy4TNBEE5yDv11qzlnNmz/DMcebM+Zy9zz4mVVUBAAAAAABWl8XaBQAAAAAAgKcI6QAAAAAAGAQhHQAAAAAAgyCkAwAAAABgEIR0AAAAAAAMgpAOAAAAAIBBENIBAAAAADCIbNYu4FVLSEiQmzdvip2dnZhMJmuXAwAAAAB4zamq3L9/XwoXLixZsvx9X3mmC+k3b94UFxcXa5cBAAAAAMhkQkJCxNnZ+W/bZLqQbmdnJyJPV469vb2VqwEAAAAAvO6ioqLExcXFnEf/TqYL6YlD3O3t7QnpAAAAAIBX5kVOuWbiOAAAAAAADIKQDgAAAACAQRDSAQAAAAAwCEI6AAAAAAAGQUgHAAAAAMAgCOkAAAAAABgEIR0AAAAAAIMgpAMAAAAAYBCEdAAAAAAADIKQDgAAAACAQRDSAQAAAAAwCEI6AAAAAAAGQUgHAAAAAMAgCOkAAAAAABgEIR0AAAAAAIMgpAMAAAAAYBBWDenz5s0TNzc3sbe3F3t7e6ldu7Zs2bLlb5+zcuVKKVeunOTIkUMqVaokmzdvfkXVAgAAAACQvqwa0p2dnWXixIly7NgxOXr0qDRo0ECaNWsm586de2b7AwcOSNu2baVr165y4sQJad68uTRv3lzOnj37iisHAAAAACDtmVRVrV1EUvny5ZMpU6ZI165dkz3Wpk0biYmJkY0bN5qX1apVS6pUqSKBgYHPfL3Y2FiJjY0134+KihIXFxeJjIwUe3v7tH8DAAAAAAAkERUVJQ4ODi+UQ7O9opr+UXx8vKxcuVJiYmKkdu3az2xz8OBBGTRokMWy9957T9atW/fc1w0ICJBx48alZamvVLERm6xdguFcmdjE2iUAAAAAQLqw+sRxZ86ckTx58oitra307NlT1q5dKxUqVHhm27CwMClYsKDFsoIFC0pYWNhzX9/f318iIyPNt5CQkDStHwAAAACAtGL1nvSyZcvKyZMnJTIyUlatWiWdOnWSPXv2PDeop5Stra3Y2tqmyWsBAAAAAJCerB7Ss2fPLqVKlRIRkWrVqsnPP/8sX331lXz99dfJ2jo5OcmtW7cslt26dUucnJxeSa0AAAAAAKQnqw93/6uEhASLid6Sql27tuzcudNi2fbt2597DjsAAAAAABmJVXvS/f39pVGjRlKkSBG5f/++fP/99xIcHCzbtm0TERE/Pz956623JCAgQERE+vfvL15eXjJ16lRp0qSJLF++XI4ePSrz58+35tsAAAAAACBNWDWk3759W/z8/CQ0NFQcHBzEzc1Ntm3bJr6+viIicu3aNcmS5X+d/XXq1JHvv/9eRo0aJZ9++qmULl1a1q1bJ66urtZ6CwAAAAAApBnDXSc9vaXk+nRGwCXYkuMSbAAAAAAykpTkUMOdkw4AAAAAQGZFSAcAAAAAwCAI6QAAAAAAGAQhHQAAAAAAgyCkAwAAAABgEIR0AAAAAAAMgpAOAAAAAIBBENIBAAAAADAIQjoAAAAAAAZBSAcAAAAAwCAI6QAAAAAAGAQhHQAAAAAAgyCkAwAAAABgEIR0AAAAAAAMgpAOAAAAAIBBENIBAAAAADAIQjoAAAAAAAZBSAcAAAAAwCAI6QAAAAAAGAQhHQAAAAAAgyCkAwAAAABgEIR0AAAAAAAMgpAOAAAAAIBBENIBAAAAADAIQjoAAAAAAAZBSAcAAAAAwCAI6QAAAAAAGAQhHQAAAAAAgyCkAwAAAABgEIR0AAAAAAAMgpAOAAAAAIBBENIBAAAAADAIQjoAAAAAAAZBSAcAAAAAwCAI6QAAAAAAGAQhHQAAAAAAgyCkAwAAAABgEIR0AAAAAAAMgpAOAAAAAIBBENIBAAAAADAIQjoAAAAAAAZBSAcAAAAAwCAI6QAAAAAAGAQhHQAAAAAAgyCkAwAAAABgEIR0AAAAAAAMgpAOAAAAAIBBENIBAAAAADAIQjoAAAAAAAZBSAcAAAAAwCAI6QAAAAAAGAQhHQAAAAAAgyCkAwAAAABgEIR0AAAAAAAMgpAOAAAAAIBBENIBAAAAADAIQjoAAAAAAAZBSAcAAAAAwCAI6QAAAAAAGAQhHQAAAAAAgyCkAwAAAABgEIR0AAAAAAAMwqohPSAgQKpXry52dnbi6OgozZs3l99+++1vnxMUFCQmk8niliNHjldUMQAAAAAA6ceqIX3Pnj3Su3dvOXTokGzfvl3i4uLk3XfflZiYmL99nr29vYSGhppvV69efUUVAwAAAACQfrJZ849v3brV4n5QUJA4OjrKsWPHxNPT87nPM5lM4uTklN7lAQAAAADwShnqnPTIyEgREcmXL9/ftouOjpaiRYuKi4uLNGvWTM6dO/fctrGxsRIVFWVxAwAAAADAiAwT0hMSEmTAgAFSt25dcXV1fW67smXLyuLFi2X9+vWybNkySUhIkDp16sj169ef2T4gIEAcHBzMNxcXl/R6CwAAAAAAvBSTqqq1ixAR+eSTT2TLli2yb98+cXZ2fuHnxcXFSfny5aVt27YyYcKEZI/HxsZKbGys+X5UVJS4uLhIZGSk2Nvbp0nt6anYiE3WLsFwrkxsYu0SAAAAAOCFRUVFiYODwwvlUKuek56oT58+snHjRvnpp59SFNBFRGxsbMTd3V1+//33Zz5ua2srtra2aVEmAAAAAADpyqrD3VVV+vTpI2vXrpVdu3ZJ8eLFU/wa8fHxcubMGSlUqFA6VAgAAAAAwKtj1Z703r17y/fffy/r168XOzs7CQsLExERBwcHyZkzp4iI+Pn5yVtvvSUBAQEiIjJ+/HipVauWlCpVSu7duydTpkyRq1evSrdu3az2PgAAAAAASAtWDenz5s0TEZH69etbLF+yZIl07txZRESuXbsmWbL8r8M/IiJCunfvLmFhYZI3b16pVq2aHDhwQCpUqPCqygYAAAAAIF0YZuK4VyUlJ+wbARPHJcfEcQAAAAAykpTkUMNcgg0AAAAAgMyOkA4AAAAAgEEQ0gEAAAAAMAhCOgAAAAAABkFIBwAAAADAIAjpAAAAAAAYBCEdAAAAAACDIKQDAAAAAGAQhHQAAAAAAAyCkA4AAAAAgEEQ0gEAAAAAMAhCOgAAAAAABkFIBwAAAADAIAjpAAAAAAAYBCEdAAAAAACDIKQDAAAAAGAQhHQAAAAAAAyCkA4AAAAAgEEQ0gEAAAAAMAhCOgAAAAAABkFIBwAAAADAIAjpAAAAAAAYBCEdAAAAAACDIKQDAAAAAGAQhHQAAAAAAAyCkA4AAAAAgEEQ0gEAAAAAMAhCOgAAAAAABkFIBwAAAADAIAjpAAAAAAAYBCEdAAAAAACDIKQDAAAAAGAQhHQAAAAAAAyCkA4AAAAAgEEQ0gEAAAAAMAhCOgAAAAAABkFIBwAAAADAIAjpAAAAAAAYBCEdAAAAAACDIKQDAAAAAGAQhHQAAAAAAAyCkA4AAAAAgEEQ0gEAAAAAMAhCOgAAAAAABkFIBwAAAADAIAjpAAAAAAAYBCEdAAAAAACDIKQDAAAAAGAQhHQAAAAAAAyCkA4AAAAAgEEQ0gEAAAAAMAhCOgAAAAAABkFIBwAAAADAIAjpAAAAAAAYBCEdAAAAAACDIKQDAAAAAGAQhHQAAAAAAAyCkA4AAAAAgEEQ0gEAAAAAMAhCOgAAAAAABkFIBwAAAADAIAjpAAAAAAAYhFVDekBAgFSvXl3s7OzE0dFRmjdvLr/99ts/Pm/lypVSrlw5yZEjh1SqVEk2b978CqoFAAAAACB9WTWk79mzR3r37i2HDh2S7du3S1xcnLz77rsSExPz3OccOHBA2rZtK127dpUTJ05I8+bNpXnz5nL27NlXWDkAAAAAAGnPpKpq7SIS3blzRxwdHWXPnj3i6en5zDZt2rSRmJgY2bhxo3lZrVq1pEqVKhIYGPiPfyMqKkocHBwkMjJS7O3t06z29FJsxCZrl2A4VyY2sXYJAAAAAPDCUpJDDXVOemRkpIiI5MuX77ltDh48KD4+PhbL3nvvPTl48OAz28fGxkpUVJTFDQAAAAAAI8pm7QISJSQkyIABA6Ru3bri6ur63HZhYWFSsGBBi2UFCxaUsLCwZ7YPCAiQcePGpWmtyPgYoZBcWoxQYL0mx3pNH2k1ooZ1mxyf2fTBek0fjK4D8DoyTE9679695ezZs7J8+fI0fV1/f3+JjIw030JCQtL09QEAAAAASCuG6Env06ePbNy4UX766Sdxdnb+27ZOTk5y69Yti2W3bt0SJyenZ7a3tbUVW1vbNKsVAAAAAID0YtWedFWVPn36yNq1a2XXrl1SvHjxf3xO7dq1ZefOnRbLtm/fLrVr106vMgEAAAAAeCWs2pPeu3dv+f7772X9+vViZ2dnPq/cwcFBcubMKSIifn5+8tZbb0lAQICIiPTv31+8vLxk6tSp0qRJE1m+fLkcPXpU5s+fb7X3AQAAAABAWrBqT/q8efMkMjJS6tevL4UKFTLfVqxYYW5z7do1CQ0NNd+vU6eOfP/99zJ//nypXLmyrFq1StatW/e3k80BAAAAAJARWLUn/UUu0R4cHJxs2YcffigffvhhOlQEAAAAAID1GGZ2dwAAAAAAMjtCOgAAAAAABkFIBwAAAADAIAjpAAAAAAAYBCEdAAAAAACDIKQDAAAAAGAQhHQAAAAAAAyCkA4AAAAAgEEQ0gEAAAAAMAhCOgAAAAAABkFIBwAAAADAIAjpAAAAAAAYBCEdAAAAAACDIKQDAAAAAGAQhHQAAAAAAAyCkA4AAAAAgEEQ0gEAAAAAMAhCOgAAAAAABkFIBwAAAADAIAjpAAAAAAAYBCEdAAAAAACDIKQDAAAAAGAQhHQAAAAAAAwiVSH90qVLaV0HAAAAAACZXqpCeqlSpcTb21uWLVsmjx49SuuaAAAAAADIlFIV0o8fPy5ubm4yaNAgcXJyko8//liOHDmS1rUBAAAAAJCppCqkV6lSRb766iu5efOmLF68WEJDQ6VevXri6uoq06ZNkzt37qR1nQAAAAAAvPZeauK4bNmyScuWLWXlypUyadIk+f3332XIkCHi4uIifn5+EhoamlZ1AgAAAADw2nupkH706FHp1auXFCpUSKZNmyZDhgyRP/74Q7Zv3y43b96UZs2apVWdAAAAAAC89rKl5knTpk2TJUuWyG+//SaNGzeWb775Rho3bixZsjzN/MWLF5egoCApVqxYWtYKAAAAAMBrLVUhfd68efLRRx9J586dpVChQs9s4+joKIsWLXqp4gAAAAAAyExSFdIvXrz4j22yZ88unTp1Ss3LAwAAAACQKaXqnPQlS5bIypUrky1fuXKlLF269KWLAgAAAAAgM0pVSA8ICJA333wz2XJHR0f58ssvX7ooAAAAAAAyo1SF9GvXrknx4sWTLS9atKhcu3btpYsCAAAAACAzSlVId3R0lNOnTydbfurUKcmfP/9LFwUAAAAAQGaUqpDetm1b6devn+zevVvi4+MlPj5edu3aJf3795d///vfaV0jAAAAAACZQqpmd58wYYJcuXJF3nnnHcmW7elLJCQkiJ+fH+ekAwAAAACQSqkK6dmzZ5cVK1bIhAkT5NSpU5IzZ06pVKmSFC1aNK3rAwAAAAAg00hVSE9UpkwZKVOmTFrVAgAAAABAppaqkB4fHy9BQUGyc+dOuX37tiQkJFg8vmvXrjQpDgAAAACAzCRVIb1///4SFBQkTZo0EVdXVzGZTGldFwAAAAAAmU6qQvry5cvlP//5jzRu3Dit6wEAAAAAINNK1SXYsmfPLqVKlUrrWgAAAAAAyNRSFdIHDx4sX331lahqWtcDAAAAAECmlarh7vv27ZPdu3fLli1bpGLFimJjY2Px+Jo1a9KkOAAAAAAAMpNUhfQ33nhDWrRokda1AAAAAACQqaUqpC9ZsiSt6wAAAAAAINNL1TnpIiJPnjyRHTt2yNdffy33798XEZGbN29KdHR0mhUHAAAAAEBmkqqe9KtXr0rDhg3l2rVrEhsbK76+vmJnZyeTJk2S2NhYCQwMTOs6AQAAAAB47aWqJ71///7i4eEhERERkjNnTvPyFi1ayM6dO9OsOAAAAAAAMpNU9aTv3btXDhw4INmzZ7dYXqxYMblx40aaFAYAAAAAQGaTqp70hIQEiY+PT7b8+vXrYmdn99JFAQAAAACQGaUqpL/77rsyY8YM832TySTR0dEyZswYady4cVrVBgAAAABAppKq4e5Tp06V9957TypUqCCPHj2Sdu3aycWLF+XNN9+UH374Ia1rBAAAAAAgU0hVSHd2dpZTp07J8uXL5fTp0xIdHS1du3aV9u3bW0wkBwAAAAAAXlyqQrqISLZs2aRDhw5pWQsAAAAAAJlaqkL6N99887eP+/n5paoYAAAAAAAys1SF9P79+1vcj4uLkwcPHkj27NklV65chHQAAAAAAFIhVbO7R0REWNyio6Plt99+k3r16jFxHAAAAAAAqZSqkP4spUuXlokTJybrZQcAAAAAAC8mzUK6yNPJ5G7evJmWLwkAAAAAQKaRqnPSN2zYYHFfVSU0NFRmz54tdevWTZPCAAAAAADIbFIV0ps3b25x32QySYECBaRBgwYyderUF36dn376SaZMmSLHjh2T0NBQWbt2bbLXTio4OFi8vb2TLQ8NDRUnJ6cX/rsAAAAAABhRqkJ6QkJCmvzxmJgYqVy5snz00UfSsmXLF37eb7/9Jvb29ub7jo6OaVIPAAAAAADWlKqQnlYaNWokjRo1SvHzHB0d5Y033nihtrGxsRIbG2u+HxUVleK/BwAAAADAq5CqkD5o0KAXbjtt2rTU/Im/VaVKFYmNjRVXV1cZO3bs354HHxAQIOPGjUvzGgAAAAAASGupCuknTpyQEydOSFxcnJQtW1ZERC5cuCBZs2aVqlWrmtuZTKa0qfL/K1SokAQGBoqHh4fExsbKwoULpX79+nL48GGLv5uUv7+/xUGFqKgocXFxSdO6AAAAAABIC6kK6e+//77Y2dnJ0qVLJW/evCIiEhERIV26dJG3335bBg8enKZFJipbtqz5oICISJ06deSPP/6Q6dOny7fffvvM59ja2oqtrW261AMAAAAAQFpK1XXSp06dKgEBAeaALiKSN29e+fzzz1M0u3taqFGjhvz++++v9G8CAAAAAJAeUhXSo6Ki5M6dO8mW37lzR+7fv//SRaXEyZMnpVChQq/0bwIAAAAAkB5SNdy9RYsW0qVLF5k6darUqFFDREQOHz4sQ4cOTdGl1KKjoy16wS9fviwnT56UfPnySZEiRcTf319u3Lgh33zzjYiIzJgxQ4oXLy4VK1aUR48eycKFC2XXrl3y448/puZtAAAAAABgKKkK6YGBgTJkyBBp166dxMXFPX2hbNmka9euMmXKlBd+naNHj4q3t7f5fuIEb506dZKgoCAJDQ2Va9eumR9//PixDB48WG7cuCG5cuUSNzc32bFjh8VrAAAAAACQUaUqpOfKlUvmzp0rU6ZMkT/++ENEREqWLCm5c+dO0evUr19fVPW5jwcFBVncHzZsmAwbNizF9QIAAAAAkBGk6pz0RKGhoRIaGiqlS5eW3Llz/23gBgAAAAAAfy9VIf3PP/+Ud955R8qUKSONGzeW0NBQERHp2rVrul1+DQAAAACA112qQvrAgQPFxsZGrl27Jrly5TIvb9OmjWzdujXNigMAAAAAIDNJ1TnpP/74o2zbtk2cnZ0tlpcuXVquXr2aJoUBAAAAAJDZpKonPSYmxqIHPVF4eLjY2tq+dFEAAAAAAGRGqQrpb7/9tvna5SIiJpNJEhISZPLkyVwODQAAAACAVErVcPfJkyfLO++8I0ePHpXHjx/LsGHD5Ny5cxIeHi779+9P6xoBAAAAAMgUUtWT7urqKhcuXJB69epJs2bNJCYmRlq2bCknTpyQkiVLpnWNAAAAAABkCinuSY+Li5OGDRtKYGCgjBw5Mj1qAgAAAAAgU0pxT7qNjY2cPn06PWoBAAAAACBTS9Vw9w4dOsiiRYvSuhYAAAAAADK1VE0c9+TJE1m8eLHs2LFDqlWrJrlz57Z4fNq0aWlSHAAAAAAAmUmKQvqlS5ekWLFicvbsWalataqIiFy4cMGijclkSrvqAAAAAADIRFIU0kuXLi2hoaGye/duERFp06aNzJw5UwoWLJguxQEAAAAAkJmk6Jx0VbW4v2XLFomJiUnTggAAAAAAyKxSNXFcor+GdgAAAAAAkHopCukmkynZOeecgw4AAAAAQNpI0TnpqiqdO3cWW1tbERF59OiR9OzZM9ns7mvWrEm7CgEAAAAAyCRSFNI7depkcb9Dhw5pWgwAAAAAAJlZikL6kiVL0qsOAAAAAAAyvZeaOA4AAAAAAKQdQjoAAAAAAAZBSAcAAAAAwCAI6QAAAAAAGAQhHQAAAAAAgyCkAwAAAABgEIR0AAAAAAAMgpAOAAAAAIBBENIBAAAAADAIQjoAAAAAAAZBSAcAAAAAwCAI6QAAAAAAGAQhHQAAAAAAgyCkAwAAAABgEIR0AAAAAAAMgpAOAAAAAIBBENIBAAAAADAIQjoAAAAAAAZBSAcAAAAAwCAI6QAAAAAAGAQhHQAAAAAAgyCkAwAAAABgEIR0AAAAAAAMgpAOAAAAAIBBENIBAAAAADAIQjoAAAAAAAZBSAcAAAAAwCAI6QAAAAAAGAQhHQAAAAAAgyCkAwAAAABgEIR0AAAAAAAMgpAOAAAAAIBBENIBAAAAADAIQjoAAAAAAAZBSAcAAAAAwCAI6QAAAAAAGAQhHQAAAAAAgyCkAwAAAABgEIR0AAAAAAAMgpAOAAAAAIBBENIBAAAAADAIQjoAAAAAAAZh1ZD+008/yfvvvy+FCxcWk8kk69at+8fnBAcHS9WqVcXW1lZKlSolQUFB6V4nAAAAAACvglVDekxMjFSuXFnmzJnzQu0vX74sTZo0EW9vbzl58qQMGDBAunXrJtu2bUvnSgEAAAAASH/ZrPnHGzVqJI0aNXrh9oGBgVK8eHGZOnWqiIiUL19e9u3bJ9OnT5f33nsvvcoEAAAAAOCVyFDnpB88eFB8fHwslr333nty8ODB5z4nNjZWoqKiLG4AAAAAABiRVXvSUyosLEwKFixosaxgwYISFRUlDx8+lJw5cyZ7TkBAgIwbN+5VlQgAAIAMpNiITdYuwXCuTGySJq/Duk0uLdYt6zW5tPrMGkWG6klPDX9/f4mMjDTfQkJCrF0SAAAAAADPlKF60p2cnOTWrVsWy27duiX29vbP7EUXEbG1tRVbW9tXUR4AAAAAAC8lQ/Wk165dW3bu3GmxbPv27VK7dm0rVQQAAAAAQNqxakiPjo6WkydPysmTJ0Xk6SXWTp48KdeuXRORp0PV/fz8zO179uwply5dkmHDhsn58+dl7ty58p///EcGDhxojfIBAAAAAEhTVg3pR48eFXd3d3F3dxcRkUGDBom7u7uMHj1aRERCQ0PNgV1EpHjx4rJp0ybZvn27VK5cWaZOnSoLFy7k8msAAAAAgNeCVc9Jr1+/vqjqcx8PCgp65nNOnDiRjlUBAAAAAGAdGeqcdAAAAAAAXmeEdAAAAAAADIKQDgAAAACAQRDSAQAAAAAwCEI6AAAAAAAGQUgHAAAAAMAgCOkAAAAAABgEIR0AAAAAAIMgpAMAAAAAYBCEdAAAAAAADIKQDgAAAACAQRDSAQAAAAAwCEI6AAAAAAAGQUgHAAAAAMAgCOkAAAAAABgEIR0AAAAAAIMgpAMAAAAAYBCEdAAAAAAADIKQDgAAAACAQRDSAQAAAAAwCEI6AAAAAAAGQUgHAAAAAMAgCOkAAAAAABgEIR0AAAAAAIMgpAMAAAAAYBCEdAAAAAAADIKQDgAAAACAQRDSAQAAAAAwCEI6AAAAAAAGQUgHAAAAAMAgCOkAAAAAABgEIR0AAAAAAIMgpAMAAAAAYBCEdAAAAAAADIKQDgAAAACAQRDSAQAAAAAwCEI6AAAAAAAGQUgHAAAAAMAgCOkAAAAAABgEIR0AAAAAAIMgpAMAAAAAYBCEdAAAAAAADIKQDgAAAACAQRDSAQAAAAAwCEI6AAAAAAAGQUgHAAAAAMAgCOkAAAAAABgEIR0AAAAAAIMgpAMAAAAAYBCEdAAAAAAADIKQDgAAAACAQRDSAQAAAAAwCEI6AAAAAAAGQUgHAAAAAMAgCOkAAAAAABgEIR0AAAAAAIMgpAMAAAAAYBCEdAAAAAAADIKQDgAAAACAQRDSAQAAAAAwCEI6AAAAAAAGQUgHAAAAAMAgDBHS58yZI8WKFZMcOXJIzZo15ciRI89tGxQUJCaTyeKWI0eOV1gtAAAAAADpw+ohfcWKFTJo0CAZM2aMHD9+XCpXrizvvfee3L59+7nPsbe3l9DQUPPt6tWrr7BiAAAAAADSh9VD+rRp06R79+7SpUsXqVChggQGBkquXLlk8eLFz32OyWQSJycn861gwYKvsGIAAAAAANKHVUP648eP5dixY+Lj42NeliVLFvHx8ZGDBw8+93nR0dFStGhRcXFxkWbNmsm5c+ee2zY2NlaioqIsbgAAAAAAGJFVQ/rdu3clPj4+WU94wYIFJSws7JnPKVu2rCxevFjWr18vy5Ytk4SEBKlTp45cv379me0DAgLEwcHBfHNxcUnz9wEAAAAAQFqw+nD3lKpdu7b4+flJlSpVxMvLS9asWSMFChSQr7/++pnt/f39JTIy0nwLCQl5xRUDAAAAAPBislnzj7/55puSNWtWuXXrlsXyW7duiZOT0wu9ho2Njbi7u8vvv//+zMdtbW3F1tb2pWsFAAAAACC9WbUnPXv27FKtWjXZuXOneVlCQoLs3LlTateu/UKvER8fL2fOnJFChQqlV5kAAAAAALwSVu1JFxEZNGiQdOrUSTw8PKRGjRoyY8YMiYmJkS5duoiIiJ+fn7z11lsSEBAgIiLjx4+XWrVqSalSpeTevXsyZcoUuXr1qnTr1s2abwMAAAAAgJdm9ZDepk0buXPnjowePVrCwsKkSpUqsnXrVvNkcteuXZMsWf7X4R8RESHdu3eXsLAwyZs3r1SrVk0OHDggFSpUsNZbAAAAAAAgTVg9pIuI9OnTR/r06fPMx4KDgy3uT58+XaZPn/4KqgIAAAAA4NXKcLO7AwAAAADwuiKkAwAAAABgEIR0AAAAAAAMgpAOAAAAAIBBENIBAAAAADAIQjoAAAAAAAZBSAcAAAAAwCAI6QAAAAAAGAQhHQAAAAAAgyCkAwAAAABgEIR0AAAAAAAMgpAOAAAAAIBBENIBAAAAADAIQjoAAAAAAAZBSAcAAAAAwCAI6QAAAAAAGAQhHQAAAAAAgyCkAwAAAABgEIR0AAAAAAAMgpAOAAAAAIBBENIBAAAAADAIQjoAAAAAAAZBSAcAAAAAwCAI6QAAAAAAGAQhHQAAAAAAgyCkAwAAAABgEIR0AAAAAAAMgpAOAAAAAIBBENIBAAAAADAIQjoAAAAAAAZBSAcAAAAAwCAI6QAAAAAAGAQhHQAAAAAAgyCkAwAAAABgEIR0AAAAAAAMgpAOAAAAAIBBENIBAAAAADAIQjoAAAAAAAZBSAcAAAAAwCAI6QAAAAAAGAQhHQAAAAAAgyCkAwAAAABgEIR0AAAAAAAMgpAOAAAAAIBBENIBAAAAADAIQjoAAAAAAAZBSAcAAAAAwCAI6QAAAAAAGAQhHQAAAAAAgyCkAwAAAABgEIR0AAAAAAAMgpAOAAAAAIBBENIBAAAAADAIQjoAAAAAAAZBSAcAAAAAwCAI6QAAAAAAGAQhHQAAAAAAgyCkAwAAAABgEIR0AAAAAAAMgpAOAAAAAIBBENIBAAAAADAIQjoAAAAAAAZBSAcAAAAAwCAMEdLnzJkjxYoVkxw5ckjNmjXlyJEjf9t+5cqVUq5cOcmRI4dUqlRJNm/e/IoqBQAAAAAg/Vg9pK9YsUIGDRokY8aMkePHj0vlypXlvffek9u3bz+z/YEDB6Rt27bStWtXOXHihDRv3lyaN28uZ8+efcWVAwAAAACQtrJZu4Bp06ZJ9+7dpUuXLiIiEhgYKJs2bZLFixfLiBEjkrX/6quvpGHDhjJ06FAREZkwYYJs375dZs+eLYGBgcnax8bGSmxsrPl+ZGSkiIhERUWlx9tJcwmxD6xdguGkxf8d6zU51mv6YL2mj7TahrNuk+Mzmz5Yr+mD9Zo+2MamHz6z6SMjZLvEGlX1nxurFcXGxmrWrFl17dq1Fsv9/Pz0gw8+eOZzXFxcdPr06RbLRo8erW5ubs9sP2bMGBURbty4cePGjRs3bty4cePGzaq3kJCQf8zJVu1Jv3v3rsTHx0vBggUtlhcsWFDOnz//zOeEhYU9s31YWNgz2/v7+8ugQYPM9xMSEiQ8PFzy588vJpPpJd9B5hAVFSUuLi4SEhIi9vb21i7ntcF6TT+s2/TBek0frNf0wXpNP6zb9MF6TR+s1/TBek05VZX79+9L4cKF/7Gt1Ye7pzdbW1uxtbW1WPbGG29Yp5gMzt7eni9hOmC9ph/WbfpgvaYP1mv6YL2mH9Zt+mC9pg/Wa/pgvaaMg4PDC7Wz6sRxb775pmTNmlVu3bplsfzWrVvi5OT0zOc4OTmlqD0AAAAAABmFVUN69uzZpVq1arJz507zsoSEBNm5c6fUrl37mc+pXbu2RXsRke3btz+3PQAAAAAAGYXVh7sPGjRIOnXqJB4eHlKjRg2ZMWOGxMTEmGd79/Pzk7feeksCAgJERKR///7i5eUlU6dOlSZNmsjy5cvl6NGjMn/+fGu+jdeara2tjBkzJtlpA3g5rNf0w7pNH6zX9MF6TR+s1/TDuk0frNf0wXpNH6zX9GVSfZE54NPX7NmzZcqUKRIWFiZVqlSRmTNnSs2aNUVEpH79+lKsWDEJCgoyt1+5cqWMGjVKrly5IqVLl5bJkydL48aNrVQ9AAAAAABpwxAhHQAAAAAAWPmcdAAAAAAA8D+EdAAAAAAADIKQDgAAAACAQRDSAQAAAAAwCEI6AAAAYGCPHj2ydgkAXiFCOtIEFwnA64LP8stJSEiwdgnAMyV+NhO/43zXkVEsXbpUunbtKuHh4dYuBcArQkjHS0ncyTGZTFau5PX1rNBDEEp/x44dk8ePH1u7jAxFVSVLlqc/K6tXr2aHMo2dPXtW7ty5Y+0yMqzEz+bBgwdF5OnvFkE99Vh36S/xt/7SpUty8eJFGTVqlERERFi5qtfftm3brF0CQEhH6qmqmEwmCQ4OloEDB4qfn59MmzaNIVlpKCEhwbxjuWPHDtmwYYOcPXvWvAxpz2QyyZYtW6R69eqyb98+Doi8oISEBPPBuhs3bsiHH34ow4YNY4cyjYwaNUp69uwpR44ckYcPH1q7nAwl6Xf45MmTUq9ePZk7d66IENRTK+n3PTQ0VB48eCAPHjwQEcJ7Wrp48aKIiIwZM0Y+/PBDOXnypPj7+7NdTUfnz5+Xxo0by5o1a6xdymsn6bY4ICBAxo8fL3FxcVasyNjY00eqmUwmWbt2rTRv3lzCw8OldOnSMmzYMOnSpQu9PWkkMYwPHz5cWrZsKYMGDRJ3d3eZM2cOB0PSSWhoqISGhsr06dOlQYMGHBB5AUl70MeOHSuTJk0SZ2dnWbx4sfTq1UsiIyOtXGHGNmrUKFm4cKH4+/tL3bp1JWfOnNYuKcNI+tmcO3euLF68WHLkyCF9+/aVGTNmiAhBPaWSrtPRo0dL06ZNpXLlytKxY0fZvXs36zONbNy4UerXry+rV6+WLFmyyODBg6VZs2Zy+vRpgno6cnR0lCZNmsjx48dFhJGLaSVpp9P58+fl4sWLMnbsWPn6669Zx8+jQCpdu3ZNy5cvrzNnzlRV1fv372u+fPl0wIABVq4s40tISDD/++TJk1qlShU9fPiwXrlyRWfMmKEmk0kDAgL0wYMHVqzy9fPrr79qnjx51NnZWb///ntVtfy/wN+bNGmS5suXT4ODg3Xfvn26bNkyfeONN/Rf//qX3rt3z9rlZUgnTpzQkiVL6u7du1VVNTIyUn/77Tf99ttv9aeffrJucRnIyJEjtUCBAvr999/rwoULtUOHDponTx6dPHmyuQ3f9X8WHx9v/vfChQs1X758unTpUv3888+1bdu2mj17dv3vf/+rqqzPl3X48GHt0KGDVqpUSVevXq2qT9f/xIkTtXbt2vrxxx9reHi4lat8PS1YsEBz5MihFy9etHYpr52hQ4dqxYoVtUuXLurm5qZZsmTRSZMmsb14BkI6Xthfv0AXLlzQatWqqarq5cuXtXDhwtqjRw/z44cPH36l9b2OJk2apIMGDdJ+/fpZLJ87dy5BPR388ccf2rdvX82VK5dOnTpVVZ9+7vnx+Gfx8fHaqlUrHTRokMXyPXv2qL29vXbs2JEdylQ4e/asurm56fbt2/XgwYPau3dvLVeunJYsWVKLFSummzZtsnaJhhcWFqYeHh4aFBRkXhYSEqJjxozRnDlzmg80qxIsX9T+/fu1a9euumjRIvOysLAw7d+/v9rb2+vRo0etWN3r4/jx49qpUyetUKECQT0dnTp1SkNDQ8334+Li1NfXV0eMGKFPnjxhu5BG1q9fr3Z2dnro0CGNj4/Xe/fu6ZQpUzRLliw6efJkffLkibVLNBTGceJvJQ5Befz4scX5ZyJPh2KHh4fL6tWr5Z133pGmTZvKnDlzRETkzJkzMmLECDl58qRV6n5dJA67PnPmjMXw9k8++UTmzJkjn332mXz++edMcJZK+pchmSVKlJDhw4dLp06dZNiwYbJq1SoxmUwM33wBCQkJEhISIrdu3TIvi4+PF09PT+nZs6csW7ZMBg0axMzaL+i3336TmJgYcXR0lCxZssioUaPE09NTVFUmTpwoW7Zskfz585u3x3i+rFmzypUrV+Tu3bvmZc7OztK1a1epXLmy9O/fX2bOnCkiTIL6IoKDg8XPz0/WrVsn2bJlMy8vWLCgDBw4UKpUqSLbt28XEb7nL8vd3V369esn1atXl88++0zWrFkjWbJkkaFDh5qHvo8aNUr+/PNPa5eaYQUHB4u7u7t5XqWYmBjJli2b+Pr6yqZNm8zzL/FZfnnh4eFSvHhxcXd3F5PJJA4ODjJkyBAZM2aMjBgxgqHvf2W94wPIKK5cuaJDhw7VqKgoXbVqldrb2+uVK1f04cOH2rFjR82TJ482b97c4jn+/v5au3ZtiyOT+HtJhxEmNX78eM2SJYsuWbIk2WNTpkzRunXrcpQ3FRLX2d69e3Xu3Lk6YMAAPXz4sEZHR2tkZKT27t1b7e3tdeXKleb2rOennvdZXbBggTo7O+vatWstls+aNUvbtWunDg4OOnjw4FdQYcb22Wefad26dXX79u2qqnr16lVdvXq17t6926KnoXr16rpw4UJrlWlIz/qOPn78WLt06aIffvihXrhwweKxXr16qY+Pj7q4uJhPccE/Gz9+vObPn18bNmyo169ft3js3Xff1c6dO1upstfTkSNHntmjPnnyZC1fvrwOHDjwudtl/LNNmzbplClT9I033lBvb2/19/fXS5cuqbOzs8UpMXg569at06xZs+qvv/6qqmr+PTty5Ija2Nho1qxZdc6cOarKqCZVhrvjBcyfP1/LlCmjjRs3VltbW/3mm2/Mj23evFmrVaumjRs31rVr1+qPP/6oAwYMUAcHBz116pQVq85Ykv64njp1Svfu3atnzpwxb6SGDBmiNjY2+u233yZ7bmIbNmgpt3r1anVwcNAOHTpovXr11N3dXXv06KFxcXF65coV7du3r+bPn1+XLVtm7VINI+lndffu3bpy5Uq9fv26xsfH67Vr17Rdu3b69ttv66pVq1RVNTw8XN9//339+uuvdfbs2VqkSBG9dOkSn9fn8Pf3VycnJ123bp3euXMn2eP379/XGzduaMOGDbVq1aoMD0wi6WczLCxMr127Zr6/bt06LVOmjA4dOlTPnz+vqqpRUVHaokULnT9/vrZu3Vrbt2+vjx494rOZxN8Fv/Hjx2vFihV18ODB5s/qw4cPtUaNGjp06NBXVeJrJfGzd+3aNT1//rzFQaVDhw4lC+pPnjzRGTNm6OXLl61RboZ2+fJl/e233yyWXb9+XadMmaJ16tRRZ2dndXR01HfeeUejo6PZLqRA0u1GbGys+d/37t3Td999Vxs1amQO6qpPTzXs06ePTpw4UW1sbDhd5v8jpOOZpk+fbtFz27dvXzWZTPrOO+9oWFiYRduVK1dqmzZtNHfu3Fq5cmX19PQkoKdA0g3/iBEj1M3NTZ2cnLRBgwbatGlT88bO399fs2fPrt99993fvgZezC+//KLFixc390SGhoaqjY2Njh492tzm5s2b2rlzZy1SpIhGRUWxnpMYMmSI5s+fXwsUKKCFChXSmTNn6qNHj/TMmTPauXNnzZMnj5YtW1ZLliyprq6uqqq6YsUKLVOmjP75559Wrt6Yjh07psWLF9ddu3apqmp0dLRevnxZV61apYcOHVLVp6Nn6tWrp/Xq1dPHjx+rqmb6oP7XUS6jR482b0fd3NzMB9mWLVumFStW1GrVqmmzZs20WrVqWrlyZVV9+nmuUaNGpl+XSSXd0V60aJH27NlT+/fvr/PnzzcvHz16tJYoUUIrVqyoH330kbZs2VIrVKhg/mzixSV+htetW6fu7u5auHBhrVevnvbv39/cJjGou7m56Q8//GClSjM+f39/dXFx0QIFCmjZsmV10aJFevPmTVX93+d+0aJF2r17d82WLVuy0WF4vqTb4lmzZmnnzp21X79+evbsWVVV/e9//6vvvPOO1qpVSzdu3Ki7d+/Whg0b6vvvv69Xr15VFxcXi7kuMjNCOpK5deuWfvzxxxZHcMePH69du3ZVDw8P7dWrV7Ihg48fP9YrV65oRESERkVFveqSM6S/Br7/+7//0zfffFP37dunsbGxOnjwYDWZTOZZnVWf/rCYTCbdtm3bK6729RMcHKzu7u6q+nQSxKJFi2r37t3Nj58+fVpVnx5Z/+uBqcwoaXgJDg7WWrVq6U8//aTh4eHav39/LVeunH755Zf64MEDffDggR48eFC//PJLXbx4sXmHvV+/furj48NM789x6NAhrVChgp46dUoPHDhgXq+FCxfW6tWr65EjR/TmzZu6YMEC8/9HXFyclas2hsTt6RdffGEe/bJ9+3Zt27atVqhQwTxkde/evTpjxgxt06aN+vv766NHj1RV1c/PTzt37mzR64Onhg4dqgUKFNC2bdtq48aN1cbGRv38/MyPf/7555ovXz5t0KCBzp0717ycz2bKbd68WfPkyaOzZs3S8+fP66RJk9RkMlmcPnD48GFt2bKl1qpVS+/fv8/B4xRavny5FihQQP/zn//o/v37tUuXLlqxYkUdP358sgPIjx490r59+2qzZs3oTX8BSdfPF198oXny5NHu3buro6OjVq9e3Xz64M6dO/Xf//63Zs2aVcuUKaO1atXSJ0+eaFxcnFaqVElXrFhhrbdgKIR0PFPijsv+/fstztObMWOGuru7a69evSwuTfHXIUP4e0mP2CYkJOjDhw+1devW5qOHGzduVDs7O12wYIGqqsbExJifO2/ePHZ+UiHxx+Phw4eq+nQde3l56Z07d7RIkSLavXt38xH0PXv26KBBg5Kda5kZnTt3zuL+0qVLtV+/fjpw4ECL5cOGDdNy5cppQEBAsoMaFy9e1P79+3MazD+4c+eOFipUSKtWraq2trbas2dPXbNmjZ45c0ZLlSqV7HSXzN7rO3LkSIuZ2e/evau1atUyn9OYaOjQoVq8eHHdt29fstcICQlRf39/feONN8w9PZld0h70ffv2qZOTk+7Zs0dVnwbvH3/8Ud944w2Lq7mMHTtW69atq59++qn5IByBJmVCQ0O1UaNGOn36dFVVvX37trq4uKiPj486Ojpqx44dzW2PHj2qN27csFKlGdfy5cv166+/1lmzZlksHzlypJYoUcI8D0jSbeuiRYvU3d3dvF+MZ0v6ff/ll1+0ffv2unfvXlV9mimaNm2qNWvW1BUrVpjbnj9/Xm/cuGG+P2zYMC1VqpTFqUqZGSEdz5SQkKAxMTHasWNHdXV11cDAQPNjX331lVatWlV79uypR48e1XHjxmn+/Pk1MjLSihVnHOPGjdPSpUtbjEZ48uSJenp66po1a3Tjxo2aJ08enTdvnqo+3SmaO3dusuFWBPWU2759u37yySeq+vRc6YIFC6rJZEp22bBBgwbpO++8k+mHZXft2lVHjBihqv/7AW7atKmaTCb19vY2H/BINHz4cHV1dVV/f3+NiIhQ1ac/zrNnz9YPPviAgP4M169f1/DwcL17966qPj2At3DhQt25c6dFr26NGjV06dKlqkr4UVWNiIjQ+vXrq6enpy5evFhVn24Ty5cvb952Jt2prlWrlrZu3VpV/7f+7t+/r7169VJXV1c9ceLEq30DBpX0sxUXF6f//e9/tXjx4hodHW3RbtWqVZo3b15zeFd9OvTdw8ND+/Xrp7dv335lNb9Opk2bpufOndOwsDCtUKGC9uzZU6Ojo3XAgAFqMpm0RYsW1i4xw7px44bmz59fTSaTDh8+XFUt96O8vb21SZMmyZ735Zdf6ltvvZXp9weeZ/bs2Xrr1i3z/QULFqirq6tWrVpV//jjD/PyiIgIbdq0qdaqVUuXLVtmcUrM/v37tVevXpo/f349fvz4K63fyAjp+Ftnz57Vrl27au3atc07Pqqqc+bM0Ro1amiJEiXUxcWFa6KnwMqVK/W9997TevXqmUcgPHz4UNu3b69eXl6aN29eiyGDISEh2qhRI3OvOlJv06ZNmiVLFv3pp59UVXXDhg1auHBh7dy5s4aEhOjPP/+sw4YNUwcHBz1z5oyVq7W+Xbt2mX9IQ0JCzMs//vhjLVy4sM6fP1/v379v8ZyePXtq+/btLXb2Hzx4wBD3Z/j888+1du3aWqZMGW3evLn5c5nYi/PgwQO9deuWNmzYUKtVq5bpe84TJX62bt26pf/617+0QYMG5rklmjRpom+//ba5beKBjk8++UTbt2+f7LXu3r1rHtmU2e3atct8/v7HH3+sAwcO1BMnTmju3LmTnWJ14cIFdXJy0k2bNlksHzJkiHp5eRHSX9JXX32ljRo1Mq/HOXPmqIeHh1arVs1iW4wX9+TJE92/f79WrVpVq1SpYv5NShw5MmzYMP3ggw8snnPr1i3t3bs3wfE5goKCtHXr1ha/TZcuXdIaNWporly5kl0x4969e9qsWTMtVaqUxTbl4sWLOmXKFEbl/gUhHar6dEcmccfnzp07Gh0dbe4lO3v2rHbq1ClZUD927Jju2bNHr169apWaM7KtW7dqy5YttU6dOuYjjcePH9c33nhDa9Soobdv39a4uDi9c+eONmrUSOvWrcsO+kuKj4/Xu3fv6gcffKAjR45U1ae96cuXL9fChQtroUKFtFy5clqtWjV61dSyR23hwoXapEkT89A1VdV27dppuXLldPHixcl62ZJecYBe32cbOXKkFihQQFeuXKnr169XHx8fLViwoHkOiri4OJ00aZJ6eHho3bp1mSQuiaTr4MCBA+rl5aXVq1fXVatW6fHjx7Vo0aLmXvPEtnXq1NF+/fpZvA6fzf+JiopSX19f9fLy0vfff1/t7e315MmTGhkZqR988IG2bNlS9+/fb25/9+5ddXV11fXr16uqZY/ks65KAEuJn70zZ87opk2b9NKlSxaP9+jRwzxniurTgx9jx45Ntq3FP3v8+LHFqJpDhw5pkSJF1NPTU2/cuKH379/Xx48fa+3atbVDhw7Jns8w97+XuI3dsWOHeX/2xo0b6uHhoZ6enuZTCBKFh4frsGHDkv2W8duWHCE9k1u8eLFFT9i6devU1dVVq1evrs2bNzefW3rmzBlzUP/666+tVW6GlvQ8v40bN2r//v01e/bs6uXlZb4k0NatWzVXrlxavXp1dXV1NV8WjB30lEvcCfrrRFBTpkzRfPnyWZzPFxUVpXv27NFffvmFHcy/ePjwoW7ZskXd3d21Q4cOFuf1tm3bVsuXL69LlixJNmEkAej5tm/frpUrVzaHns2bN6udnZ16eHho3rx5zT3q165d09mzZzNJ3HMMGjRImzVrpjVq1FA7OzstV66cBgYG6po1a7RYsWJatmxZbdSokdaqVUvLly/P+vsHf/75p5YtW1ZNJpNOnDjRvHz9+vXq7e2tXl5e+tVXX+n69evV19c32SUAuU53yqxdu1Zz586tJUqU0OzZs+uUKVPM5+Ju2LBBixUrps2aNdOOHTuqvb29eT8BL+6LL77Q999/X93c3HTGjBl68uRJVX06+V6xYsX0rbfeUk9PT23fvr1WrFjRvK/F79c/S7qO9u3bp0WLFtVBgwaZO+6uXr2qVatWVW9v72RBPRH7tH+PkJ6JXb16VUuUKKFVqlTR2NhYDQkJ0dy5c2tAQICOHj1aPT099a233jKHmTNnzmjXrl21fPnyGhQUZOXqM66BAwear9fbokULLVq0qNatW9f8A3z+/HmdM2eOTpgwQX/44Qd20F/CTz/9pIMGDdIDBw5YLK9Xr5726NFDnzx5wo/xX6xbt8485GzYsGHau3dvVX26o169enVt27atRY96x44dNW/evLpx40ar1JvR3L17V69du2Y+J3LLli1aoEABnTdvnp47d05LliypBQoU0M2bN1s8j50ZS0uXLtW8efPqsWPH9O7du3rjxg318fFRT09PDQoK0uvXr+uoUaO0X79+Onr0aPP2k+3o80VERGjjxo3V09NTfX199ZtvvjE/tmXLFu3Tp486ODho9erVtWHDhhw8TqX4+HiNjIxUHx8f/frrr/Xu3bsaEBCghQoV0pEjR2poaKhGR0frggUL1NfXV5s3b858HqkwYcIEzZcvn44cOVK7d++uZcqU0ffff998ictDhw5p9erVtUCBAvrLL7+Yn8c24p89a79p7Nix6uHhoUOHDtUrV66o6tOcUa1aNfXx8WEfIRUI6ZlYXFyc7ty5Uz08PNTDw0M3bNigEyZMMD9+7tw59fT01EKFCpmD+smTJ7VXr156+fJlK1WdMSX2MBw5ckSdnZ0tLqu2YsUK9fb21nr16pknk/trjwQ7QSmTuP4mTpyoDRo00Jw5c+qAAQP0v//9r6qqzpw5U728vMwjRQjqT0VHR6uvr6/myZNHO3furLly5bIY+r9u3TpzUE/aoz527Fg+oy9gxIgR5uGU9+7d04SEBP3ggw/0008/Nbdp0qSJFi1aVBs2bKiqfDafZ/To0Vq3bl3zFTJUn86bUL16dS1VqpSuXr062XP4jL6Y0NBQbdy4sXp7e1sEddWnExtGRESY1zmB5sUlrrPo6Gh9/PixDh482GI+hOnTp2vhwoX1008/tTin/8GDB6+81ozuypUr2rdvX4vznn/88Udt3LixtmrVSm/cuKFPnjzRgwcPatGiRbVBgwbmdmxz/17S/dPHjx9b3B83bpy6u7snC+ouLi7at2/fV15rRkdIz6SSfqm2bNmiDRs2VBsbm2RfosSgXqRIEfNkJVxH9sW0a9fOfCmVRD/99JPmyZPHPOQq0aJFizR37tzaoEED/fXXX19hla+XxB/Xv+6Mr1q1Sr28vLRChQratm1b3bJli+bIkUM///xza5RpSEl3IAsUKKC2tra6bt06VbX8zq9fv15r1qyp7du31507d1q8BiHo+Xbu3KmVKlXSI0eOmJfdvn1bixQpYr56RkREhH744Ye6efNmdhSfI3G9BAQEqIeHhznAJPbq7tixQ3Pnzq0VKlQwf35Zlyl36dIlbdKkifr6+uqiRYvMVyDx9/c3t2F4e8qtXbtW69WrpyVLltTSpUsnm5Bs+vTpWrRoUR0wYADz/aTShg0b1GQyaf78+XXLli0Wj23dulXz5s1r/u1KSEjQQ4cOaalSpdTd3Z3PdAr83//9nzZs2FC7du1qnnBS9elBe3d3dx02bJj5MxwWFsb+QSoQ0jO506dPa48ePXT16tXq6empJUqUsLgmt+rT6x1WrlxZy5Urp0+ePGEj9gLCw8O1b9++6uDgYHEO/4ULF9Td3V0XLVpkcfmJ2NhYrVy5shYqVMji2rN4cYk74jt37tRBgwbphx9+qJMnTzaPArlx44bu3btXa9WqpV5eXmoymdTd3T3Z5z0zStob9ueff2qDBg20Vq1a6ujoaL5OetLP6/r167Vo0aI6evToV15rRrR06VLt27ev9unTR1X/dzDjyZMn2r59ey1fvrx+9dVXWr9+fa1Tp475cba1z3f27FnNli2bjh071mL5pk2bzKMTWH8v59KlS9qyZUstX768lihRQl1dXTlI/xJOnTql9vb2OmzYMO3WrZv52udJh1qrPr3kV4UKFZgh/yX0799fTSaTTp8+3WK0japqpUqVkv127du3T93c3My9v0gu6fY0ICBA8+XLp3379lUfHx8tU6aMRafHuHHj1MPDQ3v06KGhoaHm5QT1lCGkZ3LTpk3TqlWr6s8//6z79+/XihUrarVq1ZLNIHr+/Hk2Xil08+ZNHTVqlNrZ2VlcZ75Vq1ZasWJF3blzp/mHIzQ0VFu2bKkrVqxgx/IlrFmzRnPlyqUDBw7UPn36aO3atbVcuXIaGRlp0W7Dhg06dOhQPXv2rJUqNY4dO3borFmzVPXpddG7deumjx8/1j///FMbNWqU7Hw91acHRE6cOMEP7gtq0aKFmkwmrVevnnmm4MTv/t69e7V9+/bq5uamzZo1Mx8MYTvwz5YsWaI2NjY6ZMgQPXLkiP7+++/auHFjHTFihLkN6/Hl3Lx5U//73//qwoULOa//JZw5c0bHjRun48aNMy9bsGCBVqtWTT/++ONkI+i4JnfKrV692uL0rO7du2uuXLl07dq15u1qRESElilTxvybl1TiFY3w944cOaLjx483n9sfEhKi48aNU2dnZ4tTZgcPHqydO3dmJNNLIKRnMolflqTnONWrV099fHxUVfXgwYPq7u6uHh4e9DCmgZs3b+rIkSPVzs5O58yZY15et25drVixovbt21cDAwPVy8tLGzRoYN6hZMcy5W7cuKFVqlTR2bNnq+rTHw5HR0fzxGd/xQ/H052S1q1ba40aNdTX11fz5s1rcX34kJAQbdy4sTo5OenJkyc1NjZWW7dubRGCCOrP991335nP6e3du7e++eabGhgY+MzLKIWHh3OebyqsWrVKHR0d1dnZWZ2dnS2uhsF3PO3xfU+5W7du6TvvvKP58+fXQYMGWTz29ddfq7u7u/bq1cvioDGf3ReXkJCgoaGhmjVrVm3RooXFeuzSpYva2tpqly5d9IsvvtCmTZtqpUqVLEaG4cVt27ZNnZyctEiRIhbr+caNGzpu3Dh1cXHRL774wrw86eVYkXKE9Exo69at2qFDB/OEGomzvCdecmXPnj1ao0YNLVWqFEE9hZ61Qbp27Zp++umnmidPHoujt0OGDFFfX1+tXLmyfvDBB/SgpcDEiRM1ODjYYtmvv/6qJUqU0MjISL127Zo6OztbnDqwZcsWrjH7/w0fPtw8g7uqapUqVdRkMllMYJYoJCREmzVrplmyZNGqVatqqVKl2MF5AWfPnlV3d3etXLmybtiwQVVVO3XqpGXLltVvvvnGfKD0rzsvfP9T7saNG3rkyBHdvXs3V8OAISR+r0+dOqXh4eG6evVqrVmzppYpU0ZPnz5t0XbBggVavHhxHThwINvWl3DkyBEtXLiw/utf/7I42NyrVy81mUzaqlUrRoS8pJMnT+onn3yiuXLl0rlz51o8duPGDZ0wYYJmy5bN4gpQBPTUI6RnMgkJCdq9e3c1mUyaL18+HTNmjF66dEm/+OIL/de//qWnT5/WhIQE3bp1q9avX18vXbpk7ZIzjKQ712FhYRanB4SHh6u/v7/myZPH3NOr+vRcdHrQUuby5cvauXPnZMMDL1++rD4+Prpt2zYtUqSI9ujRw7w+z58/r927d9eDBw9ao2RD2bFjh3br1s28bqKiorRNmzbapEkTrVevns6aNcv8WNIf16CgIJ03bx47OC9gyJAh2qpVK61Tp47my5dPS5QoYZ5tvGPHjlq+fHldtmwZB0HTCb29sKbE7ebatWu1YMGC5qtfrF69Wr28vLR58+bJJo8NCgpifysVEg+8J67zn3/+WQsWLKitWrWy6Ont1auXOjg46NatW1WVbcSLeN4B419++UU//vhjLVmypC5evNjisZCQEF2yZAnrN40Q0jOBvx7FOnz4sLZt21a/+OIL9fDw0J49e2q3bt20fPnyOnXqVFV9OkkUO5AvLuk6Hj16tLq5uamTk5NWrlxZv/32W71//75GRUWpv7+/2tvbW5yj/qzXwN9L/Gzu3btXd+zYoapPh27XqFFDTSaTdu7c2aL9kCFDtHr16uZLrmV2iT++K1asMF/279GjR9quXTutXbu2zp492yKER0VFWTyfH+DnW7Jkib7xxht67NgxDQ8P19DQUH333XfVw8PDPNt4p06dNG/evOYdRgCvl40bN2rOnDl1wYIF5ivjqD4N7j4+PtqsWTOuff6SvvzyS23fvr15YrLEfaijR4+qnZ2dueMp0UcffaR58+bV9evXW6XejCTp/uj8+fN1zJgxOmbMGPOyX375RXv37q1ly5ZNFtQTsZ/w8gjpmcTOnTt1wYIFqvp0B71Pnz760UcfaVRUlM6dO1e7deumJpNJTSaTHjhwwMrVZlxffPGF5s+fX5ctW6bbt2/Xtm3bqqurq06cOFEfPnyot2/f1s8++0xNJpN5hx0vLulG/86dO/rvf/9bixcvrtu3b1fVpxPwFStWTD09PfU///mPbtiwQfv27av29vbsEKll7/eFCxfUzc1NmzRposeOHVPVpyM+2rVrp/Xq1dOpU6dqRESE1q9fX7t06WKtkjOckSNHar169TQ+Pt58MOT69etas2ZNLVasmPl7P2HCBIa2Aq+hhw8f6ocffmg+fSgmJkYvXLigkydP1m3btmlAQIC+//776u3tzeSlL2HdunVqMpm0Z8+e5qCeuM2dNWuW2tjYaJMmTfT33383P+fDDz9UFxcXTn37G0l70IcPH6558+ZVb29vdXJy0goVKuj169dV9WlQ79Onj1aoUMFihCjSDiE9E3jy5Il++eWXajKZtGPHjrpv3z5NSEjQqlWr6vjx41VVNTIyUvv06aNvvfWWXrx40coVZzzx8fH6559/aq1atSwmiFNVHTp0qJYoUUL37t2rqqpXrlzR+fPnM1z4Jaxfv15XrVql27Zt0w4dOmilSpXMcyxcvHhRa9WqpWXLltWyZcuqj49PsqGFmVHSH97169fr3bt3deXKlerr66vNmjUzB/WIiAj96KOPtEKFClqkSBF1d3fnsksvILHnYfz48erh4WGeKTgxiO/atUtz5cqlb7/9tm7cuNH8PHobgNfLgwcP1MPDQ/v27at//vmn9unTR728vLRQoULq7OysU6dO1aCgIG3atKlFLztezMWLF/XatWuq+vQ89KxZs2r37t315s2b5jbz58/XVq1a6fvvv59sG5u0HZ7v3r172q5dO/OksX/88Yd5XoXE9f/LL79o+/bttW3btowGTQeE9Ezk1KlT+u6772qdOnW0f//+umXLFm3WrJnu37/f3CYiIsJ6BWYwf90gxcXFafny5XXevHmqquZLLamq1qpVS1u3bp3sNQjqLy5xfZ89e1ZNJpMuXbpUVVUPHDigbdq00UqVKumPP/6oqk+DUUhIiIaFhen9+/etVrNRJP2s+vv7q5OTk3nSlx9++EEbNGigzZo106NHj6rq0+Htu3bt0pUrVzIRVwqdPn1as2bNmuz63Vu3btVWrVppgwYN1MfHx2L7AOD1snTpUs2ZM6fa29trixYtzL9X/fr103fffVdVld+mVBg+fLiWK1dO8+fPr/Xq1dNNmzbpqVOnNGvWrNqjRw89ePCg3r9/X5s1a6bLly83P4+DoSkze/ZsLVSokDZo0MDiQFJISIjWrFlTy5Yta15++fJlcycAQT1tmVRVBZnGrVu35Mcff5Rp06bJxYsXxdHRUdq1ayeff/65tUvLUFRVTCaTiIgsX75c/vzzT+ndu7c0bdpUoqKi5KeffhIRkcePH0v27NmlV69eEhUVJcuWLbNm2RneoUOHJDw8XA4dOiTjx483Lz948KDMnDlTzp07J1OnThVfX18rVmlcEyZMkJkzZ8rmzZulTJky4uDgICIi69evl7lz50quXLnks88+k6pVq1o8Lz4+XrJmzWqNkjOkoKAg6dGjhwwYMEDatGkjefPmlX79+kmdOnWkRYsWUrFiRfnxxx/Fx8fH2qUCSCe//PKL3LhxQ3x9fSUhIUGyZMkiffr0kXv37snixYsle/bs1i4xQ1m+fLkMHDhQAgMD5d69e3L27FmZNm2afPvtt+Lm5iZNmjSRhIQEyZo1qzg4OMjRo0fFxsbGYn8Nz5b4+Ux06NAh6dOnj1y6dEnOnj0rhQsXNre5fv26tGnTRs6dOycXLlwQR0fHZ74GXh4hPZOKi4uT4cOHy+zZsyVv3rzy+++/i52dnbXLyhCSbojOnTsnHTt2FFWV0aNHS7FixaRFixZSs2ZNWbFihTnc1K1bVzw8POSrr76ycvUZT+I6jImJkdq1a8vZs2flww8/lBUrVlj8Xxw8eFDmzp0rwcHB8t1334mnp6eVKzeW8PBwadOmjXTu3Fnat28vN27ckAsXLsj3338vPj4+cvnyZdm7d6/cv39flixZIiVLlrR2yRna6tWrpVevXpI9e3ZRVXF0dJQDBw7IrVu3xNfXV1atWiVubm7WLhPAK3D+/Hn59ttvZc6cObJv3z5xdXW1dkkZSuLveoUKFWTgwIEiIubfquHDh8uuXbukcOHCcvz4cbl//760b99esmbNKk+ePJFs2bJZufqM4/jx4+Lm5ibZsmWTY8eOSdu2baVAgQISHBxsccDj6tWr8sUXX8i8efM4gJ+OCOmZUNKjijt27JDSpUtL0aJFrVxVxjN06FC5fPmyhIaGyq+//ioFCxaUAQMGiKOjowwaNEhsbW2lRIkSEhERIZGRkXL69Gl+LF5AYvCOiooSe3t7ERE5evSoVKxYUS5cuCBDhw6VCxcuyIEDB6Rw4cIWP8J79+6VpUuXyqeffiolSpSw5tswnIiICHF1dZUuXbrIu+++K3PnzpXLly9LQkKCXL9+XcaPHy+2trZy5MgRmTlzJkfE08CNGzckJCRE4uLipG7dupIlSxbx9/eXdevWye7du8XJycnaJQJIZ8eOHZOpU6fKyZMn5YcffpDKlStbu6QMJSwsTOrVqye3b9+W4cOHy8iRI82PRURESOfOnaVIkSIya9Ysi+cxAixl9u/fL2+//bbMnDlTPvnkE8maNascO3ZMWrduLYUKFZLdu3c/c2QC6zn9ENIzKYb/vJygoCAZOHCg7Ny5U4oXLy6xsbHi5+cnsbGx8tFHH4mPj48EBgbK/fv3xcHBQT777DPJli0bR3Vf0PXr16Vv377So0cPiYmJkdatW8uBAwekVq1acvbsWenQoYOoquzbt0/s7Ows1uujR48kR44cVn4HxrRo0SIZOnSoxMfHS8+ePcXX11d8fHykffv2kjNnTlm4cKG5LUPX0ta5c+dk0qRJsnnzZtmxY4dUqVLF2iUBeAUePnwoR48elWLFiomLi4u1y8mQTp8+LS1bthQHBwdZuHChuLu7mx/r1q2b3Lx5UzZv3mzFCl8P48ePly+//FKmTZsmH3/8sTmot2nTRt566y3ZsWOH2NjYWLvMTIO0kEkR0F/O77//Lq6uruYd7SxZssjixYulVatWMmHCBMmTJ49MmDBBRP53QCQ+Pp6A/oIePXokUVFR4u/vL+fPn5egoCCpVauWiIi4urrKd999J+3atZO3335b9u7daxHUCejP17VrV/H19ZXY2FgpXbq0iDwN47du3ZIaNWpYtCWgp50nT57I48ePxdHRUfbs2SMVK1a0dkkAXpGcOXPK22+/be0yMjQ3NzdZs2aN+Pn5yYwZM2TgwIFSpUoVuX//vvz6669sU1PoeQfhR48eLVmzZpW+ffuKiMjHH38s1apVk//85z/i6ekp/fv3l7lz577qcjMtetKBFEgM3BMmTJANGzbI3r17JUeOHBIXFyc2Njaye/duadq0qdSsWVN69Ogh//73v61dcoaTuI5/+OEH8fPzk9KlS8vkyZOladOmFu3OnTsnfn5+cvfuXTl37pzkyZPHShVnTNHR0XLy5EmZNGmSXL16VY4fP85BpHSWuJ0AAKTciRMnpEOHDhIeHi4eHh6SPXt2uXz5shw6dMg8/wedUH8vaUD/6quvpFixYtKsWTOLNp9//rmMHTtW5s6dK506dRJbW1v57bffpFSpUgxtf4XoKgFSIHHj37x5czlx4oRMmjRJRMS84/348WNp1KiRmEwmWbRokTx+/NhqtWZUiccNHRwcJDAwUEqWLCnTp0+XFStWWLSrWLGiLFmyRJydneX27dvWKDXDUlU5evSoTJo0SeLi4uTYsWOSLVs2iY+Pt3ZprzUCOgCknru7u6xYsUJy5swpkZGR4uvrK8ePH5fs2bNLXFwcAf0FJAb0adOmyfjx46V169ayceNGizajRo2Spk2byogRI2Tu3LkSHx8vZcuWlaxZs7Kf8AoR0oFUqFSpkixcuFC++OILGTZsmBw7dkwuXboks2bNkqpVq8rs2bNl586d5kux4Z8lhvPw8HB5+PCheHp6SteuXWXq1Klia2sr8+fPl5UrV5rbJ15GbPfu3UwSl0Imk0lq164t48ePl82bN4uNjY08efKEI+QAAENzdXWVNWvWyOPHj+X48ePy+++/iwgHQf9JQkKC+d/Lly+XmTNnyunTp6V3797Spk2bZEG9SJEi4uzsLGvWrLEYGs9+wqvDcHfgJXCZpbSROERt48aNMnHiRHnw4IHcv39fxowZIx06dJA//vhD+vbtK3FxceLr6ysxMTEyYcIEuXLlihQpUsTa5Wd4TBIHAMhITpw4IT179pQSJUrImDFjpFy5ctYuKUPYs2ePLF++XMqUKSMDBw6U+Ph46dOnj3z77bfy/fffi5eXlzg4OEjr1q1l+PDhUrVqVTGZTJxKYAWcgAi8hFatWkmtWrWSXWYpMDBQsmbNKo6OjtYuMUMwmUyyefNmad26tXz++efi6+sr8+fPFz8/PylWrJjUq1dPZs2aJWPGjJFVq1ZJTEyMHD16lICeRgjoAICMxN3dXWbPni1Dhw4VBwcHa5eTIYSFhUnXrl3l9u3bMmrUKBF52jM+b948sbGxkZYtW0qtWrUkMjJSREQqV64sJpOJA/lWQk86kIa4zFLKJD0y6+fnJ87OzvLll1/KtWvXxMfHR+rXry/z5883t4uIiJDHjx9LtmzZJH/+/FauHgAAWBOXXU2Z06dPS6tWrcTR0VHmzJljsZ8aFBRkPn1g7Nix5rlqGOJuHfSkA2mEyyylnMlkknXr1smNGzfk119/lY4dO0p0dLTUrl1bmjZtKoGBgSIiMm/ePGnSpIkULVrUyhUDAACjIKCnjJubm6xevVo6deokc+bMkQEDBpj3Vzt37mzRNvHStrAOetKBNMZlll7csWPH5N1335WFCxfKxo0bJSYmRvbv3y8ffPCBzJgxQ2xsbOTBgwfStm1befvtt2Xw4MGcEwUAAPASTpw4Id26dZNq1arJgAEDpEKFCtYuCX/BCQZAGiOgv5jff/9dNmzYIN26dZMWLVpI3bp15dixY1K4cGH5v//7P/N6/Pzzz+WXX36Rli1bEtABAABekru7uyxcuFBOnjwpY8aMkcuXL1u7JPwFYxgAvHJRUVHStm1buXr1qrRv315ERDp16iS//PKL7NixQ5o2bSqVK1eWkJAQ2blzp+zatYvLrAEAAKSRxMn3AgMDOZ3QgBjuDsAqTpw4IW3atJHcuXPLokWLpGrVqvLkyRP57rvvJDg4WMLCwqR8+fLSo0cPLq0CAACQDhIn52UWd2MhpAOwmtOnT0vHjh2lRo0a0rdvX64pDwAA8IpxHXTj4XAJAKtxc3OToKAgOX78uMyaNUvOnTtn7ZIAAAAyFQK68dCTDsDqTpw4IT179pQSJUrImDFjGN4OAACATIuedABWlzh5SWhoqDg4OFi7HAAAAMBq6EkHYBiPHj2SHDlyWLsMAAAAwGoI6QAAAAAAGATD3QEAAAAAMAhCOgAAAAAABkFIBwAAAADAIAjpAAAAAAAYBCEdAAAAAACDIKQDAAAAAGAQhHQAAJAu6tevLwMGDLB2GQAAZCiEdAAAXlOBgYFiZ2cnT548MS+Ljo4WGxsbqV+/vkXb4OBgMZlM8scff7ziKgEAQFKEdAAAXlPe3t4SHR0tR48eNS/bu3evODk5yeHDh+XRo0fm5bt375YiRYpIyZIlU/Q3VNXiIAAAAHg5hHQAAF5TZcuWlUKFCklwcLB5WXBwsDRr1kyKFy8uhw4dslju7e0tsbGx0q9fP3F0dJQcOXJIvXr15Oeff7ZoZzKZZMuWLVKtWjWxtbWVffv2SUxMjPj5+UmePHmkUKFCMnXq1GT1zJ07V0qXLi05cuSQggULyr/+9a90ff8AAGREhHQAAF5j3t7esnv3bvP93bt3S/369cXLy8u8/OHDh3L48GHx9vaWYcOGyerVq2Xp0qVy/PhxKVWqlLz33nsSHh5u8bojRoyQiRMnyq+//ipubm4ydOhQ2bNnj6xfv15+/PFHCQ4OluPHj5vbHz16VPr16yfjx4+X3377TbZu3Sqenp6vZiUAAJCBZLN2AQAAIP14e3vLgAED5MmTJ/Lw4UM5ceKEeHl5SVxcnAQGBoqIyMGDByU2Nlbq168v3bt3l6CgIGnUqJGIiCxYsEC2b98uixYtkqFDh5pfd/z48eLr6ysiT89zX7RokSxbtkzeeecdERFZunSpODs7m9tfu3ZNcufOLU2bNhU7OzspWrSouLu7v6rVAABAhkFPOgAAr7H69etLTEyM/Pzzz7J3714pU6aMFChQQLy8vMznpQcHB0uJEiUkMjJS4uLipG7duubn29jYSI0aNeTXX3+1eF0PDw/zv//44w95/Pix1KxZ07wsX758UrZsWfN9X19fKVq0qJQoUUI6duwo3333nTx48CAd3zkAABkTIR0AgNdYqVKlxNnZWXbv3i27d+8WLy8vEREpXLiwuLi4yIEDB2T37t3SoEGDFL1u7ty5U9Tezs5Ojh8/Lj/88IMUKlRIRo8eLZUrV5Z79+6l6HUAAHjdEdIBAHjNeXt7S3BwsAQHB1tces3T01O2bNkiR44cEW9vbylZsqRkz55d9u/fb24TFxcnP//8s1SoUOG5r1+yZEmxsbGRw4cPm5dFRETIhQsXLNply5ZNfHx8ZPLkyXL69Gm5cuWK7Nq1K+3eKAAArwHOSQcA4DXn7e0tvXv3lri4OHNPuoiIl5eX9OnTRx4/fize3t6SO3du+eSTT2To0KGSL18+KVKkiEyePFkePHggXbt2fe7r58mTR7p27SpDhw6V/Pnzi6Ojo4wcOVKyZPlfX8DGjRvl0qVL4unpKXnz5pXNmzdLQkKCxZB4AABASAcA4LXn7e0tDx8+lHLlyknBggXNy728vOT+/fvmS7WJiEycOFESEhKkY8eOcv/+ffHw8JBt27ZJ3rx5//ZvTJkyRaKjo+X9998XOzs7GTx4sERGRpoff+ONN2TNmjUyduxYefTokZQuXVp++OEHqVixYvq8aQAAMiiTqqq1iwAAAAAAAJyTDgAAAACAYRDSAQAAAAAwCEI6AAAAAAAGQUgHAAAAAMAgCOkAAAAAABgEIR0AAAAAAIMgpAMAAAAAYBCEdAAAAAAADIKQDgAAAACAQRDSAQAAAAAwCEI6AAAAAAAG8f8A/fVeKSOGfv0AAAAASUVORK5CYII=",
      "text/plain": [
       "<Figure size 1200x600 with 1 Axes>"
      ]
     },
     "metadata": {},
     "output_type": "display_data"
    }
   ],
   "source": [
    "from collections import Counter\n",
    "import matplotlib.pyplot as plt\n",
    "import pandas as pd \n",
    "import os \n",
    "import shutil\n",
    "\n",
    "\n",
    "# save_folder\n",
    "def visual_histogram(class_id, csv_location, save_folder=None) : \n",
    "    if save_folder is not None : \n",
    "        if os.path.exists(save_folder): shutil.rmtree(save_folder)\n",
    "        os.makedirs(save_folder)\n",
    "        save_path = f\"{save_folder}/histogram_{class_id}.png\"\n",
    "\n",
    "    dataframe = pd.read_csv(csv_location)\n",
    "    filtered_df = dataframe[dataframe['prediction'] == class_id]\n",
    "    if len(filtered_df) == 0 : \n",
    "        \n",
    "        print(\"No data in this class\")\n",
    "        return \n",
    "\n",
    "    result_image_caption = filtered_df['image_caption'].tolist()\n",
    "\n",
    "    # 무시할 단어 목록 (예: 관사, 조사) 설정하기 \n",
    "    ignore_words = [\"a\", \"an\", \"the\", \"of\", \"in\", \"on\", \"with\", \"and\", \"is\"]\n",
    "\n",
    "    all_words = ' '.join(result_image_caption).split()\n",
    "\n",
    "    # 각 단어의 빈도를 계산하며 무시할 단어는 제외합니다.\n",
    "    word_frequencies = Counter(word for word in all_words if word not in ignore_words)\n",
    "\n",
    "    # 빈도 수가 상위 10개인 값만 가져오기 \n",
    "\n",
    "    top_words = word_frequencies.most_common(10)\n",
    "\n",
    "    words = [word for word, freq in top_words]\n",
    "    frequencies = [freq for word, freq in top_words]\n",
    "\n",
    "    # 히스토그램 생성\n",
    "    plt.figure(figsize=(12, 6))\n",
    "    plt.bar(words, frequencies)\n",
    "    plt.xlabel('Words')\n",
    "    plt.ylabel('Frequency')\n",
    "    plt.xticks(rotation=45)\n",
    "\n",
    "    if save_folder is None :\n",
    "        plt.show()\n",
    "    else :\n",
    "        plt.savefig(save_path, bbox_inches='tight')\n",
    "    \n",
    "    return save_path\n",
    "\n",
    "\n",
    "test_folder = os.path.join(user_images_folder, 'hitgoram_').replace('\\\\', '/')\n",
    "visual_histogram(1, csv_location, test_folder)\n"
   ]
  },
  {
   "cell_type": "code",
   "execution_count": 8,
   "metadata": {},
   "outputs": [
    {
     "data": {
      "text/plain": [
       "2"
      ]
     },
     "execution_count": 8,
     "metadata": {},
     "output_type": "execute_result"
    }
   ],
   "source": [
    "max(dataframe['column_id'].tolist())"
   ]
  }
 ],
 "metadata": {
  "kernelspec": {
   "display_name": "Python 3",
   "language": "python",
   "name": "python3"
  },
  "language_info": {
   "codemirror_mode": {
    "name": "ipython",
    "version": 3
   },
   "file_extension": ".py",
   "mimetype": "text/x-python",
   "name": "python",
   "nbconvert_exporter": "python",
   "pygments_lexer": "ipython3",
   "version": "3.8.18"
  }
 },
 "nbformat": 4,
 "nbformat_minor": 2
}
